{
 "cells": [
  {
   "cell_type": "code",
   "execution_count": 2,
   "id": "871d2d97-7556-4326-b41f-e6449e7734b7",
   "metadata": {},
   "outputs": [
    {
     "name": "stdout",
     "output_type": "stream",
     "text": [
      "Requirement already satisfied: pandas in c:\\users\\jyoti\\anaconda3\\lib\\site-packages (2.2.2)\n",
      "Requirement already satisfied: numpy>=1.26.0 in c:\\users\\jyoti\\anaconda3\\lib\\site-packages (from pandas) (1.26.4)\n",
      "Requirement already satisfied: python-dateutil>=2.8.2 in c:\\users\\jyoti\\anaconda3\\lib\\site-packages (from pandas) (2.9.0.post0)\n",
      "Requirement already satisfied: pytz>=2020.1 in c:\\users\\jyoti\\anaconda3\\lib\\site-packages (from pandas) (2024.1)\n",
      "Requirement already satisfied: tzdata>=2022.7 in c:\\users\\jyoti\\anaconda3\\lib\\site-packages (from pandas) (2023.3)\n",
      "Requirement already satisfied: six>=1.5 in c:\\users\\jyoti\\anaconda3\\lib\\site-packages (from python-dateutil>=2.8.2->pandas) (1.16.0)\n"
     ]
    }
   ],
   "source": [
    "!pip install pandas"
   ]
  },
  {
   "cell_type": "code",
   "execution_count": 3,
   "id": "61545c90-d1f4-4f2a-93a7-75b0de997364",
   "metadata": {},
   "outputs": [],
   "source": [
    "#import the dataset\n",
    "\n",
    "import pandas as pd"
   ]
  },
  {
   "cell_type": "code",
   "execution_count": 4,
   "id": "9d4c009d-8940-4529-9823-18f8641825a7",
   "metadata": {},
   "outputs": [],
   "source": [
    "df= pd.read_csv(\"spotify_millsongdata.csv\")\n"
   ]
  },
  {
   "cell_type": "code",
   "execution_count": 5,
   "id": "ea47ee04-907c-4d28-9901-fed10c2442aa",
   "metadata": {},
   "outputs": [
    {
     "data": {
      "text/html": [
       "<div>\n",
       "<style scoped>\n",
       "    .dataframe tbody tr th:only-of-type {\n",
       "        vertical-align: middle;\n",
       "    }\n",
       "\n",
       "    .dataframe tbody tr th {\n",
       "        vertical-align: top;\n",
       "    }\n",
       "\n",
       "    .dataframe thead th {\n",
       "        text-align: right;\n",
       "    }\n",
       "</style>\n",
       "<table border=\"1\" class=\"dataframe\">\n",
       "  <thead>\n",
       "    <tr style=\"text-align: right;\">\n",
       "      <th></th>\n",
       "      <th>artist</th>\n",
       "      <th>song</th>\n",
       "      <th>link</th>\n",
       "      <th>text</th>\n",
       "    </tr>\n",
       "  </thead>\n",
       "  <tbody>\n",
       "    <tr>\n",
       "      <th>0</th>\n",
       "      <td>ABBA</td>\n",
       "      <td>Ahe's My Kind Of Girl</td>\n",
       "      <td>/a/abba/ahes+my+kind+of+girl_20598417.html</td>\n",
       "      <td>Look at her face, it's a wonderful face  \\r\\nA...</td>\n",
       "    </tr>\n",
       "    <tr>\n",
       "      <th>1</th>\n",
       "      <td>ABBA</td>\n",
       "      <td>Andante, Andante</td>\n",
       "      <td>/a/abba/andante+andante_20002708.html</td>\n",
       "      <td>Take it easy with me, please  \\r\\nTouch me gen...</td>\n",
       "    </tr>\n",
       "    <tr>\n",
       "      <th>2</th>\n",
       "      <td>ABBA</td>\n",
       "      <td>As Good As New</td>\n",
       "      <td>/a/abba/as+good+as+new_20003033.html</td>\n",
       "      <td>I'll never know why I had to go  \\r\\nWhy I had...</td>\n",
       "    </tr>\n",
       "    <tr>\n",
       "      <th>3</th>\n",
       "      <td>ABBA</td>\n",
       "      <td>Bang</td>\n",
       "      <td>/a/abba/bang_20598415.html</td>\n",
       "      <td>Making somebody happy is a question of give an...</td>\n",
       "    </tr>\n",
       "    <tr>\n",
       "      <th>4</th>\n",
       "      <td>ABBA</td>\n",
       "      <td>Bang-A-Boomerang</td>\n",
       "      <td>/a/abba/bang+a+boomerang_20002668.html</td>\n",
       "      <td>Making somebody happy is a question of give an...</td>\n",
       "    </tr>\n",
       "  </tbody>\n",
       "</table>\n",
       "</div>"
      ],
      "text/plain": [
       "  artist                   song                                        link  \\\n",
       "0   ABBA  Ahe's My Kind Of Girl  /a/abba/ahes+my+kind+of+girl_20598417.html   \n",
       "1   ABBA       Andante, Andante       /a/abba/andante+andante_20002708.html   \n",
       "2   ABBA         As Good As New        /a/abba/as+good+as+new_20003033.html   \n",
       "3   ABBA                   Bang                  /a/abba/bang_20598415.html   \n",
       "4   ABBA       Bang-A-Boomerang      /a/abba/bang+a+boomerang_20002668.html   \n",
       "\n",
       "                                                text  \n",
       "0  Look at her face, it's a wonderful face  \\r\\nA...  \n",
       "1  Take it easy with me, please  \\r\\nTouch me gen...  \n",
       "2  I'll never know why I had to go  \\r\\nWhy I had...  \n",
       "3  Making somebody happy is a question of give an...  \n",
       "4  Making somebody happy is a question of give an...  "
      ]
     },
     "execution_count": 5,
     "metadata": {},
     "output_type": "execute_result"
    }
   ],
   "source": [
    "df.head(5)"
   ]
  },
  {
   "cell_type": "code",
   "execution_count": 6,
   "id": "d3f92037-8148-4f62-8fdd-80a90109900e",
   "metadata": {},
   "outputs": [
    {
     "data": {
      "text/plain": [
       "(57650, 4)"
      ]
     },
     "execution_count": 6,
     "metadata": {},
     "output_type": "execute_result"
    }
   ],
   "source": [
    "df.shape"
   ]
  },
  {
   "cell_type": "code",
   "execution_count": 7,
   "id": "73f4c11e-67cd-4f42-9947-73186290fbc7",
   "metadata": {},
   "outputs": [],
   "source": [
    "# Check the null values"
   ]
  },
  {
   "cell_type": "code",
   "execution_count": 8,
   "id": "313ffe7f-28c7-4b35-8685-35011711b357",
   "metadata": {},
   "outputs": [
    {
     "data": {
      "text/plain": [
       "artist    0\n",
       "song      0\n",
       "link      0\n",
       "text      0\n",
       "dtype: int64"
      ]
     },
     "execution_count": 8,
     "metadata": {},
     "output_type": "execute_result"
    }
   ],
   "source": [
    "df.isnull().sum()"
   ]
  },
  {
   "cell_type": "code",
   "execution_count": 9,
   "id": "823d48a0-0078-443c-ac58-208c36b7f104",
   "metadata": {},
   "outputs": [],
   "source": [
    "# Drop the  column"
   ]
  },
  {
   "cell_type": "code",
   "execution_count": 10,
   "id": "936cbdbd-157a-48a5-b895-f27dbee34ba4",
   "metadata": {},
   "outputs": [],
   "source": [
    "df=df.sample(5000).drop('link',axis=1).reset_index(drop=True)"
   ]
  },
  {
   "cell_type": "code",
   "execution_count": 11,
   "id": "ac8f4780-4e6c-4708-8ddd-d0f42907afff",
   "metadata": {
    "scrolled": true
   },
   "outputs": [
    {
     "data": {
      "text/html": [
       "<div>\n",
       "<style scoped>\n",
       "    .dataframe tbody tr th:only-of-type {\n",
       "        vertical-align: middle;\n",
       "    }\n",
       "\n",
       "    .dataframe tbody tr th {\n",
       "        vertical-align: top;\n",
       "    }\n",
       "\n",
       "    .dataframe thead th {\n",
       "        text-align: right;\n",
       "    }\n",
       "</style>\n",
       "<table border=\"1\" class=\"dataframe\">\n",
       "  <thead>\n",
       "    <tr style=\"text-align: right;\">\n",
       "      <th></th>\n",
       "      <th>artist</th>\n",
       "      <th>song</th>\n",
       "      <th>text</th>\n",
       "    </tr>\n",
       "  </thead>\n",
       "  <tbody>\n",
       "    <tr>\n",
       "      <th>0</th>\n",
       "      <td>Natalie Cole</td>\n",
       "      <td>I Wanna Love Again</td>\n",
       "      <td>Ah, baby  \\r\\nHow do I start? Where do I begin...</td>\n",
       "    </tr>\n",
       "    <tr>\n",
       "      <th>1</th>\n",
       "      <td>Les Miserables</td>\n",
       "      <td>Fantine's Death (Come To Me)</td>\n",
       "      <td>Fantine:  \\r\\nCosette, it's turned so cold  \\r...</td>\n",
       "    </tr>\n",
       "    <tr>\n",
       "      <th>2</th>\n",
       "      <td>Creedence Clearwater Revival</td>\n",
       "      <td>Born On The Bayou</td>\n",
       "      <td>Now when I was just a little boy standin' to m...</td>\n",
       "    </tr>\n",
       "    <tr>\n",
       "      <th>3</th>\n",
       "      <td>Kate Bush</td>\n",
       "      <td>Dali</td>\n",
       "      <td>High, in Castille,  \\r\\nLives senora Dali alon...</td>\n",
       "    </tr>\n",
       "    <tr>\n",
       "      <th>4</th>\n",
       "      <td>Ramones</td>\n",
       "      <td>Too Tough To Die</td>\n",
       "      <td>I am a tu tu tu tu tu tu tu tu tough tough guy...</td>\n",
       "    </tr>\n",
       "    <tr>\n",
       "      <th>5</th>\n",
       "      <td>Jackson Browne</td>\n",
       "      <td>YOUR BRIGHT BABY BLUES</td>\n",
       "      <td>I'm sitting down by the highway  \\r\\nDown by t...</td>\n",
       "    </tr>\n",
       "    <tr>\n",
       "      <th>6</th>\n",
       "      <td>Chris Rea</td>\n",
       "      <td>I Can Hear Your Heartbeat</td>\n",
       "      <td>In the silence of the side street  \\r\\nIn the ...</td>\n",
       "    </tr>\n",
       "    <tr>\n",
       "      <th>7</th>\n",
       "      <td>Planetshakers</td>\n",
       "      <td>Sing Of Your Love</td>\n",
       "      <td>I love who I've become in You  \\r\\nYou've chan...</td>\n",
       "    </tr>\n",
       "    <tr>\n",
       "      <th>8</th>\n",
       "      <td>David Guetta</td>\n",
       "      <td>Sound Of Letting Go</td>\n",
       "      <td>This is the point of no return  \\r\\n'Cause thi...</td>\n",
       "    </tr>\n",
       "    <tr>\n",
       "      <th>9</th>\n",
       "      <td>Neil Young</td>\n",
       "      <td>Everybody's Alone</td>\n",
       "      <td>If you're looking for me  \\r\\nYou'll find me r...</td>\n",
       "    </tr>\n",
       "  </tbody>\n",
       "</table>\n",
       "</div>"
      ],
      "text/plain": [
       "                         artist                          song  \\\n",
       "0                  Natalie Cole            I Wanna Love Again   \n",
       "1                Les Miserables  Fantine's Death (Come To Me)   \n",
       "2  Creedence Clearwater Revival             Born On The Bayou   \n",
       "3                     Kate Bush                          Dali   \n",
       "4                       Ramones              Too Tough To Die   \n",
       "5                Jackson Browne        YOUR BRIGHT BABY BLUES   \n",
       "6                     Chris Rea     I Can Hear Your Heartbeat   \n",
       "7                 Planetshakers             Sing Of Your Love   \n",
       "8                  David Guetta           Sound Of Letting Go   \n",
       "9                    Neil Young             Everybody's Alone   \n",
       "\n",
       "                                                text  \n",
       "0  Ah, baby  \\r\\nHow do I start? Where do I begin...  \n",
       "1  Fantine:  \\r\\nCosette, it's turned so cold  \\r...  \n",
       "2  Now when I was just a little boy standin' to m...  \n",
       "3  High, in Castille,  \\r\\nLives senora Dali alon...  \n",
       "4  I am a tu tu tu tu tu tu tu tu tough tough guy...  \n",
       "5  I'm sitting down by the highway  \\r\\nDown by t...  \n",
       "6  In the silence of the side street  \\r\\nIn the ...  \n",
       "7  I love who I've become in You  \\r\\nYou've chan...  \n",
       "8  This is the point of no return  \\r\\n'Cause thi...  \n",
       "9  If you're looking for me  \\r\\nYou'll find me r...  "
      ]
     },
     "execution_count": 11,
     "metadata": {},
     "output_type": "execute_result"
    }
   ],
   "source": [
    "df.head(10)"
   ]
  },
  {
   "cell_type": "code",
   "execution_count": 12,
   "id": "2b44688b-d18a-48e4-b316-6fa2f14e9d9c",
   "metadata": {},
   "outputs": [
    {
     "data": {
      "text/plain": [
       "\"Ah, baby  \\r\\nHow do I start? Where do I begin?  \\r\\nI've been hurt so much, I just need a friend  \\r\\nCould it be you? Will you break through these walls?  \\r\\nAre you willing to help them fall?  \\r\\n  \\r\\nI want to love again, but I'm afraid to  \\r\\nI want to trust again, but my heart says not to  \\r\\nYour every smile, your gentle touch makes me weak  \\r\\nI want you so much  \\r\\nI want love again and this time with you  \\r\\n  \\r\\nI didn't know that this would be so hard for me  \\r\\nBeing this close to you is driving me crazy  \\r\\nMy mind says no, oh, but my body says yes  \\r\\nYou make one move and I'll do the rest  \\r\\n  \\r\\nI want to love again, but I'm afraid to  \\r\\nI want to trust again, but my heart says not to  \\r\\nYour every smile, your gentle touch makes me weak  \\r\\nI want you so much  \\r\\nI want to love again and this time with you  \\r\\n  \\r\\nOh, it's been so long, since I've seen your face  \\r\\nAnd I'm just trying to be strong  \\r\\nOh, but I think about you everyday  \\r\\nAnd it makes me weak when I see your face  \\r\\nI guess it means, I'm in a different space  \\r\\nCause I wanna love again and this time with you  \\r\\n  \\r\\nI want to love again but I'm afraid to  \\r\\nI want to trust again, but my heart says not to  \\r\\nYour every smile, your gentle, gentle touch makes me weak  \\r\\nI want you so much  \\r\\nI want to love again  \\r\\n  \\r\\nPlease let me love again  \\r\\nI want to love again  \\r\\nAnd this time with you  \\r\\nI just wanna love again with you\\r\\n\\r\\n\""
      ]
     },
     "execution_count": 12,
     "metadata": {},
     "output_type": "execute_result"
    }
   ],
   "source": [
    "df['text'][0]\n"
   ]
  },
  {
   "cell_type": "code",
   "execution_count": 13,
   "id": "635335ba-a12f-46e5-8c3e-bf57e5b93ec3",
   "metadata": {},
   "outputs": [
    {
     "data": {
      "text/plain": [
       "(5000, 3)"
      ]
     },
     "execution_count": 13,
     "metadata": {},
     "output_type": "execute_result"
    }
   ],
   "source": [
    "df.shape"
   ]
  },
  {
   "cell_type": "code",
   "execution_count": 14,
   "id": "c10d088c-c49b-40da-8384-a62901f45401",
   "metadata": {},
   "outputs": [],
   "source": [
    "#Text cleaning"
   ]
  },
  {
   "cell_type": "code",
   "execution_count": 15,
   "id": "089186c5-065f-454a-93b5-87128c2bc0e1",
   "metadata": {},
   "outputs": [],
   "source": [
    "df['text']=df['text'].str.lower().replace(r'^\\w\\s',' ').replace(r'\\n',' ',regex=True)"
   ]
  },
  {
   "cell_type": "code",
   "execution_count": 16,
   "id": "7e9ac834-b93f-41a8-95d8-8d62ca8396f3",
   "metadata": {},
   "outputs": [
    {
     "data": {
      "text/html": [
       "<div>\n",
       "<style scoped>\n",
       "    .dataframe tbody tr th:only-of-type {\n",
       "        vertical-align: middle;\n",
       "    }\n",
       "\n",
       "    .dataframe tbody tr th {\n",
       "        vertical-align: top;\n",
       "    }\n",
       "\n",
       "    .dataframe thead th {\n",
       "        text-align: right;\n",
       "    }\n",
       "</style>\n",
       "<table border=\"1\" class=\"dataframe\">\n",
       "  <thead>\n",
       "    <tr style=\"text-align: right;\">\n",
       "      <th></th>\n",
       "      <th>artist</th>\n",
       "      <th>song</th>\n",
       "      <th>text</th>\n",
       "    </tr>\n",
       "  </thead>\n",
       "  <tbody>\n",
       "    <tr>\n",
       "      <th>4995</th>\n",
       "      <td>Primus</td>\n",
       "      <td>Mr. Knowitall</td>\n",
       "      <td>they call me mr. knowitall  \\r i will not comp...</td>\n",
       "    </tr>\n",
       "    <tr>\n",
       "      <th>4996</th>\n",
       "      <td>Nazareth</td>\n",
       "      <td>Red Light Lady</td>\n",
       "      <td>down at the house with the red light  \\r she w...</td>\n",
       "    </tr>\n",
       "    <tr>\n",
       "      <th>4997</th>\n",
       "      <td>Mazzy Star</td>\n",
       "      <td>Mary Of Silence</td>\n",
       "      <td>oh mary of silence,  \\r you pick my heart with...</td>\n",
       "    </tr>\n",
       "    <tr>\n",
       "      <th>4998</th>\n",
       "      <td>Howard Jones</td>\n",
       "      <td>Good Luck, Bad Luck</td>\n",
       "      <td>the film script lies ahead  \\r change the futu...</td>\n",
       "    </tr>\n",
       "    <tr>\n",
       "      <th>4999</th>\n",
       "      <td>Katy Perry</td>\n",
       "      <td>Ur So Stupid</td>\n",
       "      <td>i hope you hang yourself with your stupid scar...</td>\n",
       "    </tr>\n",
       "  </tbody>\n",
       "</table>\n",
       "</div>"
      ],
      "text/plain": [
       "            artist                 song  \\\n",
       "4995        Primus        Mr. Knowitall   \n",
       "4996      Nazareth       Red Light Lady   \n",
       "4997    Mazzy Star      Mary Of Silence   \n",
       "4998  Howard Jones  Good Luck, Bad Luck   \n",
       "4999    Katy Perry         Ur So Stupid   \n",
       "\n",
       "                                                   text  \n",
       "4995  they call me mr. knowitall  \\r i will not comp...  \n",
       "4996  down at the house with the red light  \\r she w...  \n",
       "4997  oh mary of silence,  \\r you pick my heart with...  \n",
       "4998  the film script lies ahead  \\r change the futu...  \n",
       "4999  i hope you hang yourself with your stupid scar...  "
      ]
     },
     "execution_count": 16,
     "metadata": {},
     "output_type": "execute_result"
    }
   ],
   "source": [
    "df.tail(5)"
   ]
  },
  {
   "cell_type": "code",
   "execution_count": 17,
   "id": "74ea651e-c144-49de-abce-9cfaebeefddc",
   "metadata": {},
   "outputs": [
    {
     "name": "stdout",
     "output_type": "stream",
     "text": [
      "Requirement already satisfied: nltk in c:\\users\\jyoti\\anaconda3\\lib\\site-packages (3.9.1)\n",
      "Requirement already satisfied: click in c:\\users\\jyoti\\anaconda3\\lib\\site-packages (from nltk) (8.1.7)\n",
      "Requirement already satisfied: joblib in c:\\users\\jyoti\\anaconda3\\lib\\site-packages (from nltk) (1.4.2)\n",
      "Requirement already satisfied: regex>=2021.8.3 in c:\\users\\jyoti\\anaconda3\\lib\\site-packages (from nltk) (2024.9.11)\n",
      "Requirement already satisfied: tqdm in c:\\users\\jyoti\\anaconda3\\lib\\site-packages (from nltk) (4.66.5)\n",
      "Requirement already satisfied: colorama in c:\\users\\jyoti\\anaconda3\\lib\\site-packages (from click->nltk) (0.4.6)\n"
     ]
    }
   ],
   "source": [
    "!pip install nltk\n"
   ]
  },
  {
   "cell_type": "code",
   "execution_count": 18,
   "id": "acca9a1a-9afb-491f-91dd-417489082a6c",
   "metadata": {},
   "outputs": [
    {
     "name": "stderr",
     "output_type": "stream",
     "text": [
      "[nltk_data] Downloading package punkt_tab to\n",
      "[nltk_data]     C:\\Users\\jyoti\\AppData\\Roaming\\nltk_data...\n",
      "[nltk_data]   Package punkt_tab is already up-to-date!\n"
     ]
    },
    {
     "data": {
      "text/plain": [
       "True"
      ]
     },
     "execution_count": 18,
     "metadata": {},
     "output_type": "execute_result"
    }
   ],
   "source": [
    "import nltk\n",
    "nltk.download('punkt_tab')\n"
   ]
  },
  {
   "cell_type": "code",
   "execution_count": 19,
   "id": "fa55b883-e8ae-4d1a-bc4a-0990a670b4c8",
   "metadata": {},
   "outputs": [],
   "source": [
    "#stemmer"
   ]
  },
  {
   "cell_type": "code",
   "execution_count": 20,
   "id": "30a99fa3-3bce-4b5a-9542-370d7c02015f",
   "metadata": {},
   "outputs": [],
   "source": [
    "from nltk.stem.porter import PorterStemmer\n",
    "\n"
   ]
  },
  {
   "cell_type": "code",
   "execution_count": 21,
   "id": "57a62579-21fa-41e2-8f68-50b888d6fae4",
   "metadata": {},
   "outputs": [],
   "source": [
    "stemmer = PorterStemmer()"
   ]
  },
  {
   "cell_type": "code",
   "execution_count": 22,
   "id": "349428e3-06eb-4d52-a85c-0d1df402091e",
   "metadata": {},
   "outputs": [],
   "source": [
    "#Tokenization"
   ]
  },
  {
   "cell_type": "code",
   "execution_count": 39,
   "id": "c638c1e8-3d67-4746-be05-83bdfd726ae3",
   "metadata": {},
   "outputs": [],
   "source": [
    "def tokenization(txt):\n",
    "    tokens=nltk.word_tokenize(txt)\n",
    "    stemming=[stemmer.stem(w) for w in tokens]\n",
    "    return \" \".join(stemming)"
   ]
  },
  {
   "cell_type": "code",
   "execution_count": 40,
   "id": "636d34cc-2e9f-4822-9284-2fdd22e2a4eb",
   "metadata": {},
   "outputs": [
    {
     "data": {
      "text/plain": [
       "'good luck , bad luck'"
      ]
     },
     "execution_count": 40,
     "metadata": {},
     "output_type": "execute_result"
    }
   ],
   "source": [
    "tokenization(\" Good Luck, Bad Luck \")"
   ]
  },
  {
   "cell_type": "code",
   "execution_count": 45,
   "id": "6da57a75-0fd5-45fa-bf31-13f3dd0825c6",
   "metadata": {},
   "outputs": [
    {
     "data": {
      "text/plain": [
       "0       ah , babi how do i start ? where do i begin ? ...\n",
       "1       fantin : cosett , it 's turn so cold cosett , ...\n",
       "2       now when i wa just a littl boy standin ' to my...\n",
       "3       high , in castil , live senora dali alon . and...\n",
       "4       i am a tu tu tu tu tu tu tu tu tough tough guy...\n",
       "                              ...                        \n",
       "4995    they call me mr. knowit i will not compromi . ...\n",
       "4996    down at the hou with the red light she work fr...\n",
       "4997    oh mari of silenc , you pick my heart with a s...\n",
       "4998    the film script lie ahead chang the futur , ch...\n",
       "4999    i hope you hang yourself with your stupid scar...\n",
       "Name: text, Length: 5000, dtype: object"
      ]
     },
     "execution_count": 45,
     "metadata": {},
     "output_type": "execute_result"
    }
   ],
   "source": [
    "df['text'].apply(lambda x: tokenization(x))"
   ]
  },
  {
   "cell_type": "code",
   "execution_count": 42,
   "id": "4e186d57-8014-46b3-bbdb-5314651a0923",
   "metadata": {},
   "outputs": [
    {
     "name": "stdout",
     "output_type": "stream",
     "text": [
      "Requirement already satisfied: scikit-learn in c:\\users\\jyoti\\anaconda3\\lib\\site-packages (1.5.1)\n",
      "Requirement already satisfied: numpy>=1.19.5 in c:\\users\\jyoti\\anaconda3\\lib\\site-packages (from scikit-learn) (1.26.4)\n",
      "Requirement already satisfied: scipy>=1.6.0 in c:\\users\\jyoti\\anaconda3\\lib\\site-packages (from scikit-learn) (1.13.1)\n",
      "Requirement already satisfied: joblib>=1.2.0 in c:\\users\\jyoti\\anaconda3\\lib\\site-packages (from scikit-learn) (1.4.2)\n",
      "Requirement already satisfied: threadpoolctl>=3.1.0 in c:\\users\\jyoti\\anaconda3\\lib\\site-packages (from scikit-learn) (3.5.0)\n"
     ]
    }
   ],
   "source": [
    "!pip install scikit-learn\n",
    " "
   ]
  },
  {
   "cell_type": "code",
   "execution_count": 43,
   "id": "9b9bf93d-c32d-4fe7-b83d-71ac56cb1026",
   "metadata": {},
   "outputs": [
    {
     "name": "stdout",
     "output_type": "stream",
     "text": [
      "1.5.1\n"
     ]
    }
   ],
   "source": [
    "import sklearn\n",
    "print(sklearn.__version__)\n"
   ]
  },
  {
   "cell_type": "code",
   "execution_count": 27,
   "id": "e5e0e277-1bf9-49d3-9496-b0e10b75d35c",
   "metadata": {},
   "outputs": [],
   "source": [
    "from sklearn.feature_extraction.text import TfidfVectorizer\n",
    "from sklearn.metrics.pairwise import cosine_similarity"
   ]
  },
  {
   "cell_type": "code",
   "execution_count": null,
   "id": "437ddb07-d55b-440b-9930-c762f63be3ec",
   "metadata": {},
   "outputs": [],
   "source": [
    "#Feed Transformation"
   ]
  },
  {
   "cell_type": "code",
   "execution_count": 28,
   "id": "6fadc3e4-5fff-47d7-81a1-b4b82836e455",
   "metadata": {},
   "outputs": [],
   "source": [
    "tfidvector=TfidfVectorizer(analyzer='word',stop_words='english')"
   ]
  },
  {
   "cell_type": "code",
   "execution_count": null,
   "id": "c9ffc449-f74e-4ad2-b833-05ee94a07a62",
   "metadata": {},
   "outputs": [],
   "source": []
  },
  {
   "cell_type": "code",
   "execution_count": 29,
   "id": "96e2726d-dab1-40e3-82a6-8978c44ba6c9",
   "metadata": {},
   "outputs": [],
   "source": [
    "matrix=tfidvector.fit_transform(df['text'])"
   ]
  },
  {
   "cell_type": "code",
   "execution_count": 30,
   "id": "32f1e318-c72f-4322-9a26-4a53f8ea8fb6",
   "metadata": {},
   "outputs": [
    {
     "data": {
      "text/plain": [
       "<5000x17872 sparse matrix of type '<class 'numpy.float64'>'\n",
       "\twith 274778 stored elements in Compressed Sparse Row format>"
      ]
     },
     "execution_count": 30,
     "metadata": {},
     "output_type": "execute_result"
    }
   ],
   "source": [
    "matrix"
   ]
  },
  {
   "cell_type": "code",
   "execution_count": 46,
   "id": "5818d7ec-cf75-4312-aeb9-8bbc8b8b696f",
   "metadata": {},
   "outputs": [
    {
     "data": {
      "text/plain": [
       "array([[1.        , 0.02862835, 0.01280767, ..., 0.04138466, 0.02852452,\n",
       "        0.04268394],\n",
       "       [0.02862835, 1.        , 0.00334503, ..., 0.01538779, 0.01678708,\n",
       "        0.00595969],\n",
       "       [0.01280767, 0.00334503, 1.        , ..., 0.00746382, 0.        ,\n",
       "        0.02780354],\n",
       "       ...,\n",
       "       [0.04138466, 0.01538779, 0.00746382, ..., 1.        , 0.00157869,\n",
       "        0.06238593],\n",
       "       [0.02852452, 0.01678708, 0.        , ..., 0.00157869, 1.        ,\n",
       "        0.00912375],\n",
       "       [0.04268394, 0.00595969, 0.02780354, ..., 0.06238593, 0.00912375,\n",
       "        1.        ]])"
      ]
     },
     "execution_count": 46,
     "metadata": {},
     "output_type": "execute_result"
    }
   ],
   "source": [
    "cosine_similarity(matrix)"
   ]
  },
  {
   "cell_type": "code",
   "execution_count": 47,
   "id": "3abbc11a-7cc9-43d1-8d62-8f9aff8e4222",
   "metadata": {},
   "outputs": [],
   "source": [
    "similarity=cosine_similarity(matrix)"
   ]
  },
  {
   "cell_type": "code",
   "execution_count": 48,
   "id": "fe77bcb6-fdee-468a-8ba0-b113d8516f09",
   "metadata": {},
   "outputs": [
    {
     "data": {
      "text/plain": [
       "array([1.        , 0.02862835, 0.01280767, ..., 0.04138466, 0.02852452,\n",
       "       0.04268394])"
      ]
     },
     "execution_count": 48,
     "metadata": {},
     "output_type": "execute_result"
    }
   ],
   "source": [
    "similarity[0]"
   ]
  },
  {
   "cell_type": "code",
   "execution_count": 31,
   "id": "32aeeb9a-ffda-4f12-8968-47aadfb27877",
   "metadata": {},
   "outputs": [
    {
     "data": {
      "text/plain": [
       "4999"
      ]
     },
     "execution_count": 31,
     "metadata": {},
     "output_type": "execute_result"
    }
   ],
   "source": [
    "df[df['song']=='Our Mommas !'].index[0]\n",
    "\n"
   ]
  },
  {
   "cell_type": "code",
   "execution_count": null,
   "id": "4047adb1-2265-473b-8512-664c2c99dea5",
   "metadata": {},
   "outputs": [],
   "source": []
  },
  {
   "cell_type": "code",
   "execution_count": 32,
   "id": "c484d373-78f7-458b-ae56-fee0b4b61a55",
   "metadata": {},
   "outputs": [],
   "source": [
    "def recommendation(song_df):\n",
    "    idx=df[df['song']==song_df].index[0]\n",
    "    distances=sorted(list(enumerate(similarity[idx])),reverse=True,key=lambda x:x[1])\n",
    "    songs=[]\n",
    "    for m_id in distances[1:21]:\n",
    "        songs.append(df.iloc[m_id[0]].song)\n",
    "    return songs"
   ]
  },
  {
   "cell_type": "code",
   "execution_count": 33,
   "id": "410b2811-d2ab-437c-a21b-60659c28eb0d",
   "metadata": {},
   "outputs": [
    {
     "data": {
      "text/plain": [
       "['I Love My Momma',\n",
       " 'Fat',\n",
       " 'Sorry Momma',\n",
       " 'Fat Lenny',\n",
       " 'LL Cool J Skit',\n",
       " 'Take You Home',\n",
       " 'America Is Not The World',\n",
       " 'Sumthin Wicked This Way Comes',\n",
       " \"I've Got The World On A String\",\n",
       " \"I Don't Want To Be A Star\",\n",
       " 'Cousins',\n",
       " 'You Gotta Lotta That',\n",
       " 'Peaches',\n",
       " 'Waiting For The Man',\n",
       " 'Heartless',\n",
       " \"Cowgirl's Dream\",\n",
       " \"I've Changed\",\n",
       " 'Hoes',\n",
       " 'Drink It Up',\n",
       " 'Shaolin Worldwide']"
      ]
     },
     "execution_count": 33,
     "metadata": {},
     "output_type": "execute_result"
    }
   ],
   "source": [
    "recommendation('Our Mommas !')"
   ]
  },
  {
   "cell_type": "code",
   "execution_count": 34,
   "id": "6f45c96f-a962-4887-9ae1-46a05021bab1",
   "metadata": {},
   "outputs": [],
   "source": [
    "import pickle"
   ]
  },
  {
   "cell_type": "code",
   "execution_count": null,
   "id": "7d577739-4803-475a-b8a3-d44da8add40c",
   "metadata": {},
   "outputs": [],
   "source": [
    "pickle.dump(similarity,open('similarity.pkl','wb'))\n",
    "pickle.dump(df,open('df.pkl','wb'))"
   ]
  }
 ],
 "metadata": {
  "kernelspec": {
   "display_name": "Python 3 (ipykernel)",
   "language": "python",
   "name": "python3"
  },
  "language_info": {
   "codemirror_mode": {
    "name": "ipython",
    "version": 3
   },
   "file_extension": ".py",
   "mimetype": "text/x-python",
   "name": "python",
   "nbconvert_exporter": "python",
   "pygments_lexer": "ipython3",
   "version": "3.12.7"
  }
 },
 "nbformat": 4,
 "nbformat_minor": 5
}
